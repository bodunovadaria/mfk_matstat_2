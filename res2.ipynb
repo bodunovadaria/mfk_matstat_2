{
 "cells": [
  {
   "cell_type": "code",
   "execution_count": 1,
   "id": "80d932e8",
   "metadata": {},
   "outputs": [],
   "source": [
    "import pandas as pd\n",
    "import numpy as np\n",
    "import matplotlib.pyplot as plt\n",
    "import sympy\n",
    "import seaborn as sns\n",
    "import scipy\n",
    "import sklearn"
   ]
  },
  {
   "cell_type": "code",
   "execution_count": 2,
   "id": "c8dd8830",
   "metadata": {},
   "outputs": [],
   "source": [
    "data = pd.read_csv('flights_NY.csv', index_col=0, delimiter=',')"
   ]
  },
  {
   "cell_type": "code",
   "execution_count": 3,
   "id": "3f3b6596",
   "metadata": {},
   "outputs": [
    {
     "data": {
      "text/html": [
       "<div>\n",
       "<style scoped>\n",
       "    .dataframe tbody tr th:only-of-type {\n",
       "        vertical-align: middle;\n",
       "    }\n",
       "\n",
       "    .dataframe tbody tr th {\n",
       "        vertical-align: top;\n",
       "    }\n",
       "\n",
       "    .dataframe thead th {\n",
       "        text-align: right;\n",
       "    }\n",
       "</style>\n",
       "<table border=\"1\" class=\"dataframe\">\n",
       "  <thead>\n",
       "    <tr style=\"text-align: right;\">\n",
       "      <th></th>\n",
       "      <th>month</th>\n",
       "      <th>day</th>\n",
       "      <th>dep_time</th>\n",
       "      <th>dep_delay</th>\n",
       "      <th>arr_time</th>\n",
       "      <th>arr_delay</th>\n",
       "      <th>carrier</th>\n",
       "      <th>tailnum</th>\n",
       "      <th>flight</th>\n",
       "      <th>origin</th>\n",
       "      <th>dest</th>\n",
       "      <th>air_time</th>\n",
       "      <th>distance</th>\n",
       "    </tr>\n",
       "    <tr>\n",
       "      <th>year</th>\n",
       "      <th></th>\n",
       "      <th></th>\n",
       "      <th></th>\n",
       "      <th></th>\n",
       "      <th></th>\n",
       "      <th></th>\n",
       "      <th></th>\n",
       "      <th></th>\n",
       "      <th></th>\n",
       "      <th></th>\n",
       "      <th></th>\n",
       "      <th></th>\n",
       "      <th></th>\n",
       "    </tr>\n",
       "  </thead>\n",
       "  <tbody>\n",
       "    <tr>\n",
       "      <th>2013</th>\n",
       "      <td>1</td>\n",
       "      <td>1</td>\n",
       "      <td>517.0</td>\n",
       "      <td>2.0</td>\n",
       "      <td>830.0</td>\n",
       "      <td>11.0</td>\n",
       "      <td>UA</td>\n",
       "      <td>N14228</td>\n",
       "      <td>1545</td>\n",
       "      <td>EWR</td>\n",
       "      <td>IAH</td>\n",
       "      <td>227.0</td>\n",
       "      <td>1400</td>\n",
       "    </tr>\n",
       "    <tr>\n",
       "      <th>2013</th>\n",
       "      <td>1</td>\n",
       "      <td>1</td>\n",
       "      <td>533.0</td>\n",
       "      <td>4.0</td>\n",
       "      <td>850.0</td>\n",
       "      <td>20.0</td>\n",
       "      <td>UA</td>\n",
       "      <td>N24211</td>\n",
       "      <td>1714</td>\n",
       "      <td>LGA</td>\n",
       "      <td>IAH</td>\n",
       "      <td>227.0</td>\n",
       "      <td>1416</td>\n",
       "    </tr>\n",
       "    <tr>\n",
       "      <th>2013</th>\n",
       "      <td>1</td>\n",
       "      <td>1</td>\n",
       "      <td>542.0</td>\n",
       "      <td>2.0</td>\n",
       "      <td>923.0</td>\n",
       "      <td>33.0</td>\n",
       "      <td>AA</td>\n",
       "      <td>N619AA</td>\n",
       "      <td>1141</td>\n",
       "      <td>JFK</td>\n",
       "      <td>MIA</td>\n",
       "      <td>160.0</td>\n",
       "      <td>1089</td>\n",
       "    </tr>\n",
       "    <tr>\n",
       "      <th>2013</th>\n",
       "      <td>1</td>\n",
       "      <td>1</td>\n",
       "      <td>544.0</td>\n",
       "      <td>-1.0</td>\n",
       "      <td>1004.0</td>\n",
       "      <td>-18.0</td>\n",
       "      <td>B6</td>\n",
       "      <td>N804JB</td>\n",
       "      <td>725</td>\n",
       "      <td>JFK</td>\n",
       "      <td>BQN</td>\n",
       "      <td>183.0</td>\n",
       "      <td>1576</td>\n",
       "    </tr>\n",
       "    <tr>\n",
       "      <th>2013</th>\n",
       "      <td>1</td>\n",
       "      <td>1</td>\n",
       "      <td>554.0</td>\n",
       "      <td>-6.0</td>\n",
       "      <td>812.0</td>\n",
       "      <td>-25.0</td>\n",
       "      <td>DL</td>\n",
       "      <td>N668DN</td>\n",
       "      <td>461</td>\n",
       "      <td>LGA</td>\n",
       "      <td>ATL</td>\n",
       "      <td>116.0</td>\n",
       "      <td>762</td>\n",
       "    </tr>\n",
       "    <tr>\n",
       "      <th>...</th>\n",
       "      <td>...</td>\n",
       "      <td>...</td>\n",
       "      <td>...</td>\n",
       "      <td>...</td>\n",
       "      <td>...</td>\n",
       "      <td>...</td>\n",
       "      <td>...</td>\n",
       "      <td>...</td>\n",
       "      <td>...</td>\n",
       "      <td>...</td>\n",
       "      <td>...</td>\n",
       "      <td>...</td>\n",
       "      <td>...</td>\n",
       "    </tr>\n",
       "    <tr>\n",
       "      <th>2013</th>\n",
       "      <td>9</td>\n",
       "      <td>30</td>\n",
       "      <td>2240.0</td>\n",
       "      <td>-5.0</td>\n",
       "      <td>2334.0</td>\n",
       "      <td>-17.0</td>\n",
       "      <td>B6</td>\n",
       "      <td>N354JB</td>\n",
       "      <td>1816</td>\n",
       "      <td>JFK</td>\n",
       "      <td>SYR</td>\n",
       "      <td>41.0</td>\n",
       "      <td>209</td>\n",
       "    </tr>\n",
       "    <tr>\n",
       "      <th>2013</th>\n",
       "      <td>9</td>\n",
       "      <td>30</td>\n",
       "      <td>2240.0</td>\n",
       "      <td>-10.0</td>\n",
       "      <td>2347.0</td>\n",
       "      <td>-20.0</td>\n",
       "      <td>B6</td>\n",
       "      <td>N281JB</td>\n",
       "      <td>2002</td>\n",
       "      <td>JFK</td>\n",
       "      <td>BUF</td>\n",
       "      <td>52.0</td>\n",
       "      <td>301</td>\n",
       "    </tr>\n",
       "    <tr>\n",
       "      <th>2013</th>\n",
       "      <td>9</td>\n",
       "      <td>30</td>\n",
       "      <td>2241.0</td>\n",
       "      <td>-5.0</td>\n",
       "      <td>2345.0</td>\n",
       "      <td>-16.0</td>\n",
       "      <td>B6</td>\n",
       "      <td>N346JB</td>\n",
       "      <td>486</td>\n",
       "      <td>JFK</td>\n",
       "      <td>ROC</td>\n",
       "      <td>47.0</td>\n",
       "      <td>264</td>\n",
       "    </tr>\n",
       "    <tr>\n",
       "      <th>2013</th>\n",
       "      <td>9</td>\n",
       "      <td>30</td>\n",
       "      <td>2307.0</td>\n",
       "      <td>12.0</td>\n",
       "      <td>2359.0</td>\n",
       "      <td>1.0</td>\n",
       "      <td>B6</td>\n",
       "      <td>N565JB</td>\n",
       "      <td>718</td>\n",
       "      <td>JFK</td>\n",
       "      <td>BOS</td>\n",
       "      <td>33.0</td>\n",
       "      <td>187</td>\n",
       "    </tr>\n",
       "    <tr>\n",
       "      <th>2013</th>\n",
       "      <td>9</td>\n",
       "      <td>30</td>\n",
       "      <td>2349.0</td>\n",
       "      <td>-10.0</td>\n",
       "      <td>325.0</td>\n",
       "      <td>-25.0</td>\n",
       "      <td>B6</td>\n",
       "      <td>N516JB</td>\n",
       "      <td>745</td>\n",
       "      <td>JFK</td>\n",
       "      <td>PSE</td>\n",
       "      <td>196.0</td>\n",
       "      <td>1617</td>\n",
       "    </tr>\n",
       "  </tbody>\n",
       "</table>\n",
       "<p>327346 rows × 13 columns</p>\n",
       "</div>"
      ],
      "text/plain": [
       "      month  day  dep_time  dep_delay  arr_time  arr_delay carrier tailnum  \\\n",
       "year                                                                         \n",
       "2013      1    1     517.0        2.0     830.0       11.0      UA  N14228   \n",
       "2013      1    1     533.0        4.0     850.0       20.0      UA  N24211   \n",
       "2013      1    1     542.0        2.0     923.0       33.0      AA  N619AA   \n",
       "2013      1    1     544.0       -1.0    1004.0      -18.0      B6  N804JB   \n",
       "2013      1    1     554.0       -6.0     812.0      -25.0      DL  N668DN   \n",
       "...     ...  ...       ...        ...       ...        ...     ...     ...   \n",
       "2013      9   30    2240.0       -5.0    2334.0      -17.0      B6  N354JB   \n",
       "2013      9   30    2240.0      -10.0    2347.0      -20.0      B6  N281JB   \n",
       "2013      9   30    2241.0       -5.0    2345.0      -16.0      B6  N346JB   \n",
       "2013      9   30    2307.0       12.0    2359.0        1.0      B6  N565JB   \n",
       "2013      9   30    2349.0      -10.0     325.0      -25.0      B6  N516JB   \n",
       "\n",
       "      flight origin dest  air_time  distance  \n",
       "year                                          \n",
       "2013    1545    EWR  IAH     227.0      1400  \n",
       "2013    1714    LGA  IAH     227.0      1416  \n",
       "2013    1141    JFK  MIA     160.0      1089  \n",
       "2013     725    JFK  BQN     183.0      1576  \n",
       "2013     461    LGA  ATL     116.0       762  \n",
       "...      ...    ...  ...       ...       ...  \n",
       "2013    1816    JFK  SYR      41.0       209  \n",
       "2013    2002    JFK  BUF      52.0       301  \n",
       "2013     486    JFK  ROC      47.0       264  \n",
       "2013     718    JFK  BOS      33.0       187  \n",
       "2013     745    JFK  PSE     196.0      1617  \n",
       "\n",
       "[327346 rows x 13 columns]"
      ]
     },
     "execution_count": 3,
     "metadata": {},
     "output_type": "execute_result"
    }
   ],
   "source": [
    "# Удаление строк, содержащих нулевые значения\n",
    "data2 = data.dropna ()\n",
    "data2"
   ]
  },
  {
   "cell_type": "code",
   "execution_count": 4,
   "id": "82035993",
   "metadata": {},
   "outputs": [],
   "source": [
    "N = len(data2)"
   ]
  },
  {
   "cell_type": "code",
   "execution_count": 5,
   "id": "2dcdf611",
   "metadata": {},
   "outputs": [
    {
     "data": {
      "text/plain": [
       "month          int64\n",
       "day            int64\n",
       "dep_time     float64\n",
       "dep_delay    float64\n",
       "arr_time     float64\n",
       "arr_delay    float64\n",
       "carrier       object\n",
       "tailnum       object\n",
       "flight         int64\n",
       "origin        object\n",
       "dest          object\n",
       "air_time     float64\n",
       "distance       int64\n",
       "dtype: object"
      ]
     },
     "execution_count": 5,
     "metadata": {},
     "output_type": "execute_result"
    }
   ],
   "source": [
    "# Тип данных в колонках\n",
    "data2.dtypes"
   ]
  },
  {
   "cell_type": "markdown",
   "id": "6221e660",
   "metadata": {},
   "source": [
    "# 1. По каждой авиакомпании оцените вероятность того, что задержка прилета будет положительной и нарисуйте график, показывающий распределение этой вероятности по авиакомпаниям.\n",
    " "
   ]
  },
  {
   "cell_type": "code",
   "execution_count": 6,
   "id": "be3aac39",
   "metadata": {},
   "outputs": [
    {
     "data": {
      "text/plain": [
       "['UA',\n",
       " 'AA',\n",
       " 'B6',\n",
       " 'DL',\n",
       " 'EV',\n",
       " 'MQ',\n",
       " 'US',\n",
       " 'WN',\n",
       " 'VX',\n",
       " 'FL',\n",
       " 'AS',\n",
       " '9E',\n",
       " 'F9',\n",
       " 'HA',\n",
       " 'YV',\n",
       " 'OO']"
      ]
     },
     "execution_count": 6,
     "metadata": {},
     "output_type": "execute_result"
    }
   ],
   "source": [
    "# Получение списка всех авиакомпаний\n",
    "carrier_all = data2['carrier'].tolist()\n",
    "carrier = []\n",
    "for i in range(len(carrier_all)):\n",
    "    if carrier_all[i] not in carrier:\n",
    "        carrier.append(carrier_all[i])\n",
    "carrier"
   ]
  },
  {
   "cell_type": "code",
   "execution_count": 7,
   "id": "3d9c1482",
   "metadata": {
    "scrolled": true
   },
   "outputs": [],
   "source": [
    "# Общее число положительных задержек\n",
    "carrier_pos_all = data2[data2['arr_delay'] > 0]\n",
    "len(carrier_pos_all)\n",
    "\n",
    "# Список числа задержек по каждой авиакомпании\n",
    "pos_delay_count = []\n",
    "all_delay_count = []\n",
    "for i in range(len(carrier)):\n",
    "    carrier0 = data2[data2['carrier'].isin([carrier[i]])] \n",
    "    all_delay_count.append(len(carrier0)) # Число всех задержек\n",
    "    \n",
    "    carrier0_pos = carrier0[carrier0['arr_delay'] > 0]\n",
    "    pos_delay_count.append(len(carrier0_pos)) # Число положительных задержек"
   ]
  },
  {
   "cell_type": "code",
   "execution_count": 8,
   "id": "8575fd2d",
   "metadata": {
    "scrolled": false
   },
   "outputs": [
    {
     "data": {
      "text/html": [
       "<div>\n",
       "<style scoped>\n",
       "    .dataframe tbody tr th:only-of-type {\n",
       "        vertical-align: middle;\n",
       "    }\n",
       "\n",
       "    .dataframe tbody tr th {\n",
       "        vertical-align: top;\n",
       "    }\n",
       "\n",
       "    .dataframe thead th {\n",
       "        text-align: right;\n",
       "    }\n",
       "</style>\n",
       "<table border=\"1\" class=\"dataframe\">\n",
       "  <thead>\n",
       "    <tr style=\"text-align: right;\">\n",
       "      <th></th>\n",
       "      <th>carrier</th>\n",
       "      <th>pos_delay_count</th>\n",
       "      <th>all_delay_count</th>\n",
       "      <th>probability_whithin_carrier</th>\n",
       "      <th>probability_between_carrier</th>\n",
       "    </tr>\n",
       "  </thead>\n",
       "  <tbody>\n",
       "    <tr>\n",
       "      <th>9</th>\n",
       "      <td>FL</td>\n",
       "      <td>1895</td>\n",
       "      <td>3175</td>\n",
       "      <td>0.596850</td>\n",
       "      <td>0.014248</td>\n",
       "    </tr>\n",
       "    <tr>\n",
       "      <th>12</th>\n",
       "      <td>F9</td>\n",
       "      <td>392</td>\n",
       "      <td>681</td>\n",
       "      <td>0.575624</td>\n",
       "      <td>0.002947</td>\n",
       "    </tr>\n",
       "    <tr>\n",
       "      <th>4</th>\n",
       "      <td>EV</td>\n",
       "      <td>24484</td>\n",
       "      <td>51108</td>\n",
       "      <td>0.479064</td>\n",
       "      <td>0.184085</td>\n",
       "    </tr>\n",
       "    <tr>\n",
       "      <th>14</th>\n",
       "      <td>YV</td>\n",
       "      <td>258</td>\n",
       "      <td>544</td>\n",
       "      <td>0.474265</td>\n",
       "      <td>0.001940</td>\n",
       "    </tr>\n",
       "    <tr>\n",
       "      <th>5</th>\n",
       "      <td>MQ</td>\n",
       "      <td>11693</td>\n",
       "      <td>25037</td>\n",
       "      <td>0.467029</td>\n",
       "      <td>0.087915</td>\n",
       "    </tr>\n",
       "    <tr>\n",
       "      <th>7</th>\n",
       "      <td>WN</td>\n",
       "      <td>5304</td>\n",
       "      <td>12044</td>\n",
       "      <td>0.440385</td>\n",
       "      <td>0.039878</td>\n",
       "    </tr>\n",
       "    <tr>\n",
       "      <th>2</th>\n",
       "      <td>B6</td>\n",
       "      <td>23609</td>\n",
       "      <td>54049</td>\n",
       "      <td>0.436807</td>\n",
       "      <td>0.177506</td>\n",
       "    </tr>\n",
       "    <tr>\n",
       "      <th>0</th>\n",
       "      <td>UA</td>\n",
       "      <td>22222</td>\n",
       "      <td>57782</td>\n",
       "      <td>0.384583</td>\n",
       "      <td>0.167078</td>\n",
       "    </tr>\n",
       "    <tr>\n",
       "      <th>11</th>\n",
       "      <td>9E</td>\n",
       "      <td>6637</td>\n",
       "      <td>17294</td>\n",
       "      <td>0.383775</td>\n",
       "      <td>0.049901</td>\n",
       "    </tr>\n",
       "    <tr>\n",
       "      <th>6</th>\n",
       "      <td>US</td>\n",
       "      <td>7349</td>\n",
       "      <td>19831</td>\n",
       "      <td>0.370581</td>\n",
       "      <td>0.055254</td>\n",
       "    </tr>\n",
       "    <tr>\n",
       "      <th>15</th>\n",
       "      <td>OO</td>\n",
       "      <td>10</td>\n",
       "      <td>29</td>\n",
       "      <td>0.344828</td>\n",
       "      <td>0.000075</td>\n",
       "    </tr>\n",
       "    <tr>\n",
       "      <th>3</th>\n",
       "      <td>DL</td>\n",
       "      <td>16413</td>\n",
       "      <td>47658</td>\n",
       "      <td>0.344391</td>\n",
       "      <td>0.123402</td>\n",
       "    </tr>\n",
       "    <tr>\n",
       "      <th>8</th>\n",
       "      <td>VX</td>\n",
       "      <td>1746</td>\n",
       "      <td>5116</td>\n",
       "      <td>0.341282</td>\n",
       "      <td>0.013127</td>\n",
       "    </tr>\n",
       "    <tr>\n",
       "      <th>1</th>\n",
       "      <td>AA</td>\n",
       "      <td>10706</td>\n",
       "      <td>31947</td>\n",
       "      <td>0.335118</td>\n",
       "      <td>0.080494</td>\n",
       "    </tr>\n",
       "    <tr>\n",
       "      <th>13</th>\n",
       "      <td>HA</td>\n",
       "      <td>97</td>\n",
       "      <td>342</td>\n",
       "      <td>0.283626</td>\n",
       "      <td>0.000729</td>\n",
       "    </tr>\n",
       "    <tr>\n",
       "      <th>10</th>\n",
       "      <td>AS</td>\n",
       "      <td>189</td>\n",
       "      <td>709</td>\n",
       "      <td>0.266573</td>\n",
       "      <td>0.001421</td>\n",
       "    </tr>\n",
       "  </tbody>\n",
       "</table>\n",
       "</div>"
      ],
      "text/plain": [
       "   carrier  pos_delay_count  all_delay_count  probability_whithin_carrier  \\\n",
       "9       FL             1895             3175                     0.596850   \n",
       "12      F9              392              681                     0.575624   \n",
       "4       EV            24484            51108                     0.479064   \n",
       "14      YV              258              544                     0.474265   \n",
       "5       MQ            11693            25037                     0.467029   \n",
       "7       WN             5304            12044                     0.440385   \n",
       "2       B6            23609            54049                     0.436807   \n",
       "0       UA            22222            57782                     0.384583   \n",
       "11      9E             6637            17294                     0.383775   \n",
       "6       US             7349            19831                     0.370581   \n",
       "15      OO               10               29                     0.344828   \n",
       "3       DL            16413            47658                     0.344391   \n",
       "8       VX             1746             5116                     0.341282   \n",
       "1       AA            10706            31947                     0.335118   \n",
       "13      HA               97              342                     0.283626   \n",
       "10      AS              189              709                     0.266573   \n",
       "\n",
       "    probability_between_carrier  \n",
       "9                      0.014248  \n",
       "12                     0.002947  \n",
       "4                      0.184085  \n",
       "14                     0.001940  \n",
       "5                      0.087915  \n",
       "7                      0.039878  \n",
       "2                      0.177506  \n",
       "0                      0.167078  \n",
       "11                     0.049901  \n",
       "6                      0.055254  \n",
       "15                     0.000075  \n",
       "3                      0.123402  \n",
       "8                      0.013127  \n",
       "1                      0.080494  \n",
       "13                     0.000729  \n",
       "10                     0.001421  "
      ]
     },
     "execution_count": 8,
     "metadata": {},
     "output_type": "execute_result"
    }
   ],
   "source": [
    "task = pd.DataFrame({'carrier': carrier, 'pos_delay_count': pos_delay_count, 'all_delay_count': all_delay_count})\n",
    "task['probability_whithin_carrier'] = task['pos_delay_count']/task['all_delay_count']\n",
    "task['probability_between_carrier'] = task['pos_delay_count']/len(carrier_pos_all)\n",
    "task\n",
    "\n",
    "t = task.sort_values(by='probability_whithin_carrier', ascending=False)\n",
    "t"
   ]
  },
  {
   "cell_type": "markdown",
   "id": "c9996f80",
   "metadata": {},
   "source": [
    "Структура датасета t:  \n",
    "carrier - код авиакомпании,  \n",
    "pos_delay_count\t- число положительных задержек,  \n",
    "all_delay_count\t- число всех задержек этой авиакомпании,  \n",
    "probability_whithin_carrier - вероятность того, что задержка рейса этой авиакомпании окажется положительной,  \n",
    "probability_between_carrier - вероятность, что положительая задержка,   произойдет именно в этой авиакомпании"
   ]
  },
  {
   "cell_type": "code",
   "execution_count": 9,
   "id": "832ada6b",
   "metadata": {},
   "outputs": [
    {
     "data": {
      "text/plain": [
       "Text(0.5, 0, 'Код авиакомпании')"
      ]
     },
     "execution_count": 9,
     "metadata": {},
     "output_type": "execute_result"
    },
    {
     "data": {
      "image/png": "[encoded data removed]",
      "text/plain": [
       "<Figure size 432x288 with 1 Axes>"
      ]
     },
     "metadata": {
      "needs_background": "light"
     },
     "output_type": "display_data"
    }
   ],
   "source": [
    "plt.bar(t['carrier'], t['probability_whithin_carrier'])\n",
    "plt.ylabel(\"Вероятность положительной задержки рейса\")\n",
    "plt.xlabel(\"Код авиакомпании\")"
   ]
  },
  {
   "cell_type": "markdown",
   "id": "4fe393d2",
   "metadata": {},
   "source": [
    "Наибольшая вероятность положительной задержки в авиакомпании FL"
   ]
  },
  {
   "cell_type": "markdown",
   "id": "2d4a1926",
   "metadata": {},
   "source": [
    "# 2. Постройте гистограмму расстояния перелета distance. Выделите на ней три группы перелетов: короткие, средние и длинные. Какие значения distance разумно выбрать в качестве границы, разделяющей короткие. средние и длинные перелеты? Куда летят самолеты в группе длинных перелетов? Найдите среднее время задержки вылета в каждой из трех выделенных групп. \n"
   ]
  },
  {
   "cell_type": "code",
   "execution_count": 10,
   "id": "13f5e3a2",
   "metadata": {},
   "outputs": [
    {
     "data": {
      "text/plain": [
       "Text(0, 0.5, 'Число рейсов')"
      ]
     },
     "execution_count": 10,
     "metadata": {},
     "output_type": "execute_result"
    },
    {
     "data": {
      "image/png": "[encoded data removed]",
      "text/plain": [
       "<Figure size 432x288 with 1 Axes>"
      ]
     },
     "metadata": {
      "needs_background": "light"
     },
     "output_type": "display_data"
    }
   ],
   "source": [
    "n_bins = len(data2)\n",
    "plt.hist(data2['distance'], color = 'blue', edgecolor = 'black', bins = int(180/5))\n",
    "plt.xlabel(\"Расстояние, км\")\n",
    "plt.ylabel(\"Число рейсов\")"
   ]
  },
  {
   "cell_type": "code",
   "execution_count": 11,
   "id": "841c7a3d",
   "metadata": {},
   "outputs": [
    {
     "name": "stdout",
     "output_type": "stream",
     "text": [
      "80 4983 1634.3333333333333\n"
     ]
    }
   ],
   "source": [
    "distance_min = data2['distance'].min()\n",
    "distance_max = data2['distance'].max()\n",
    "rang = (distance_max - distance_min)/3 # Длина бина\n",
    "print(distance_min, distance_max, rang)"
   ]
  },
  {
   "cell_type": "code",
   "execution_count": 12,
   "id": "14687091",
   "metadata": {},
   "outputs": [
    {
     "name": "stdout",
     "output_type": "stream",
     "text": [
      "1714.3333333333333 3348.6666666666665 4983.0\n"
     ]
    }
   ],
   "source": [
    "# Верхние границы интервалов\n",
    "short_d_int = distance_min + rang\n",
    "middle_d_int = short_d_int + rang\n",
    "long_d_int = middle_d_int + rang\n",
    "print (short_d_int, middle_d_int, long_d_int)"
   ]
  },
  {
   "cell_type": "markdown",
   "id": "afaf0d7c",
   "metadata": {},
   "source": [
    "Короткие дистанции - от 80 до 1714.34  \n",
    "Средние дистанции - от 1714.34 до 3348.67  \n",
    "Длинные дистанции - выше 3348.67  "
   ]
  },
  {
   "cell_type": "code",
   "execution_count": 13,
   "id": "caf45bde",
   "metadata": {},
   "outputs": [
    {
     "data": {
      "text/plain": [
       "Text(0, 0.5, 'Число рейсов')"
      ]
     },
     "execution_count": 13,
     "metadata": {},
     "output_type": "execute_result"
    },
    {
     "data": {
      "image/png": "[encoded data removed]",
      "text/plain": [
       "<Figure size 432x288 with 1 Axes>"
      ]
     },
     "metadata": {
      "needs_background": "light"
     },
     "output_type": "display_data"
    }
   ],
   "source": [
    "plt.hist(data2['distance'], color = 'green', edgecolor = 'black', bins = 3)\n",
    "plt.xlabel(\"Расстояние, км\")\n",
    "plt.ylabel(\"Число рейсов\")"
   ]
  },
  {
   "cell_type": "code",
   "execution_count": 14,
   "id": "fdfa6247",
   "metadata": {},
   "outputs": [
    {
     "name": "stdout",
     "output_type": "stream",
     "text": [
      "12.916593451648803 10.75103330902018 9.355430183356841\n"
     ]
    }
   ],
   "source": [
    "short_d = data2[data2['distance'] < short_d_int]['dep_delay'].mean()\n",
    "\n",
    "middle_d1 = data2[short_d_int <= data2['distance']]\n",
    "middle_d2 = middle_d1[middle_d1['distance'] <= middle_d_int]['dep_delay'].mean()\n",
    "\n",
    "long_d = data2[data2['distance'] > middle_d_int]['dep_delay'].mean()\n",
    "\n",
    "print (short_d,  middle_d2, long_d)"
   ]
  },
  {
   "cell_type": "markdown",
   "id": "07b2907c",
   "metadata": {},
   "source": [
    "Средняя задержка времени вылета в группе:  \n",
    "    коротких перелетов 12,9 минут  \n",
    "    средних перелетов 10,8 минут  \n",
    "    дальних перелетов 9,4 минут  "
   ]
  },
  {
   "cell_type": "code",
   "execution_count": 15,
   "id": "a2447509",
   "metadata": {},
   "outputs": [
    {
     "data": {
      "text/plain": [
       "array(['HNL', 'ANC'], dtype=object)"
      ]
     },
     "execution_count": 15,
     "metadata": {},
     "output_type": "execute_result"
    }
   ],
   "source": [
    "airports = data2[data2['distance'] > middle_d_int]['dest'].unique()\n",
    "airports"
   ]
  },
  {
   "cell_type": "markdown",
   "id": "b6c30a77",
   "metadata": {},
   "source": [
    "В группе дальних перелетов самолеты летят в:  \n",
    "HNL - Международный аэропорт Гонолулу, Гавайи  \n",
    "ANC - Международный аэропорт Анкоридж, Аляска  "
   ]
  },
  {
   "cell_type": "markdown",
   "id": "76d2f1af",
   "metadata": {},
   "source": [
    "# 3. Нарисуйте график среднего времени задержки вылета по месяцам и отметьте на нем границы доверительных интервалов с уровнем доверия 0.95. С помощью подходящего статистического теста проверьте, можно ли принять гипотезу о равенстве средних в январе и феврале на уровне значимости 0.05? на уровне значимости 0.01? \n"
   ]
  },
  {
   "cell_type": "markdown",
   "id": "124cd8a8",
   "metadata": {},
   "source": [
    "Так как распределение не известно, но выборка большая, можно предположить, что выборочное распределение выборочного среднего распределено нормально (ЦПТ). Следовательно можно рассчитать ассимптотический доверительный интервал."
   ]
  },
  {
   "cell_type": "code",
   "execution_count": 16,
   "id": "65510625",
   "metadata": {},
   "outputs": [
    {
     "name": "stdout",
     "output_type": "stream",
     "text": [
      "[1, 10, 11, 12, 2, 3, 4, 5, 6, 7, 8, 9]\n"
     ]
    }
   ],
   "source": [
    "m = data2['month'].unique()\n",
    "months = m.tolist()\n",
    "print(months)"
   ]
  },
  {
   "cell_type": "code",
   "execution_count": 17,
   "id": "d9d80d85",
   "metadata": {},
   "outputs": [],
   "source": [
    "import scipy.stats as st"
   ]
  },
  {
   "cell_type": "code",
   "execution_count": 18,
   "id": "bfb149a5",
   "metadata": {},
   "outputs": [
    {
     "data": {
      "text/html": [
       "<div>\n",
       "<style scoped>\n",
       "    .dataframe tbody tr th:only-of-type {\n",
       "        vertical-align: middle;\n",
       "    }\n",
       "\n",
       "    .dataframe tbody tr th {\n",
       "        vertical-align: top;\n",
       "    }\n",
       "\n",
       "    .dataframe thead th {\n",
       "        text-align: right;\n",
       "    }\n",
       "</style>\n",
       "<table border=\"1\" class=\"dataframe\">\n",
       "  <thead>\n",
       "    <tr style=\"text-align: right;\">\n",
       "      <th></th>\n",
       "      <th>months</th>\n",
       "      <th>mean</th>\n",
       "      <th>confidence interval</th>\n",
       "      <th>conf_int_len</th>\n",
       "    </tr>\n",
       "  </thead>\n",
       "  <tbody>\n",
       "    <tr>\n",
       "      <th>0</th>\n",
       "      <td>1</td>\n",
       "      <td>9.985491</td>\n",
       "      <td>(9.547487811696357, 10.423494838504418)</td>\n",
       "      <td>0.438004</td>\n",
       "    </tr>\n",
       "    <tr>\n",
       "      <th>4</th>\n",
       "      <td>2</td>\n",
       "      <td>12.891709</td>\n",
       "      <td>(12.433799324572384, 13.349619332993033)</td>\n",
       "      <td>0.457910</td>\n",
       "    </tr>\n",
       "    <tr>\n",
       "      <th>5</th>\n",
       "      <td>3</td>\n",
       "      <td>20.725614</td>\n",
       "      <td>(20.114658064571547, 21.336570005603892)</td>\n",
       "      <td>0.610956</td>\n",
       "    </tr>\n",
       "    <tr>\n",
       "      <th>6</th>\n",
       "      <td>4</td>\n",
       "      <td>21.522179</td>\n",
       "      <td>(20.925081131172433, 22.119276130341014)</td>\n",
       "      <td>0.597097</td>\n",
       "    </tr>\n",
       "    <tr>\n",
       "      <th>7</th>\n",
       "      <td>5</td>\n",
       "      <td>12.570524</td>\n",
       "      <td>(12.1359701728788, 13.005078651714328)</td>\n",
       "      <td>0.434554</td>\n",
       "    </tr>\n",
       "    <tr>\n",
       "      <th>8</th>\n",
       "      <td>6</td>\n",
       "      <td>6.630285</td>\n",
       "      <td>(6.207256308191644, 7.053313851008653)</td>\n",
       "      <td>0.423029</td>\n",
       "    </tr>\n",
       "    <tr>\n",
       "      <th>9</th>\n",
       "      <td>7</td>\n",
       "      <td>6.233175</td>\n",
       "      <td>(5.889496796471599, 6.576853053273316)</td>\n",
       "      <td>0.343678</td>\n",
       "    </tr>\n",
       "    <tr>\n",
       "      <th>10</th>\n",
       "      <td>8</td>\n",
       "      <td>5.420340</td>\n",
       "      <td>(5.0914608610352925, 5.749219870120394)</td>\n",
       "      <td>0.328880</td>\n",
       "    </tr>\n",
       "    <tr>\n",
       "      <th>11</th>\n",
       "      <td>9</td>\n",
       "      <td>16.482161</td>\n",
       "      <td>(15.984561084051757, 16.979761639856463)</td>\n",
       "      <td>0.497600</td>\n",
       "    </tr>\n",
       "    <tr>\n",
       "      <th>1</th>\n",
       "      <td>10</td>\n",
       "      <td>10.760239</td>\n",
       "      <td>(10.298906895459746, 11.221570847964928)</td>\n",
       "      <td>0.461332</td>\n",
       "    </tr>\n",
       "    <tr>\n",
       "      <th>2</th>\n",
       "      <td>11</td>\n",
       "      <td>13.164289</td>\n",
       "      <td>(12.694367349961434, 13.634211246554946)</td>\n",
       "      <td>0.469922</td>\n",
       "    </tr>\n",
       "    <tr>\n",
       "      <th>3</th>\n",
       "      <td>12</td>\n",
       "      <td>13.849187</td>\n",
       "      <td>(13.34282576439827, 14.35554892722849)</td>\n",
       "      <td>0.506362</td>\n",
       "    </tr>\n",
       "  </tbody>\n",
       "</table>\n",
       "</div>"
      ],
      "text/plain": [
       "    months       mean                       confidence interval  conf_int_len\n",
       "0        1   9.985491   (9.547487811696357, 10.423494838504418)      0.438004\n",
       "4        2  12.891709  (12.433799324572384, 13.349619332993033)      0.457910\n",
       "5        3  20.725614  (20.114658064571547, 21.336570005603892)      0.610956\n",
       "6        4  21.522179  (20.925081131172433, 22.119276130341014)      0.597097\n",
       "7        5  12.570524    (12.1359701728788, 13.005078651714328)      0.434554\n",
       "8        6   6.630285    (6.207256308191644, 7.053313851008653)      0.423029\n",
       "9        7   6.233175    (5.889496796471599, 6.576853053273316)      0.343678\n",
       "10       8   5.420340   (5.0914608610352925, 5.749219870120394)      0.328880\n",
       "11       9  16.482161  (15.984561084051757, 16.979761639856463)      0.497600\n",
       "1       10  10.760239  (10.298906895459746, 11.221570847964928)      0.461332\n",
       "2       11  13.164289  (12.694367349961434, 13.634211246554946)      0.469922\n",
       "3       12  13.849187    (13.34282576439827, 14.35554892722849)      0.506362"
      ]
     },
     "execution_count": 18,
     "metadata": {},
     "output_type": "execute_result"
    }
   ],
   "source": [
    "mean = []\n",
    "conf_int = []\n",
    "conf_int_len = []\n",
    "for i in range(len(months)):\n",
    "    m = data2[data2['month'] == i+1]['dep_delay'].mean()\n",
    "    mean.append(m)\n",
    "\n",
    "    ci = st.norm.interval(alpha=0.95, loc=np.mean(data2[data2['month'] == i+1]['dep_delay']),  scale=st.sem(data2[data2['month'] == i+1]['dep_delay']))\n",
    "    conf_int.append(ci)\n",
    "    \n",
    "    ci_len = (ci[1] - ci[0])/2\n",
    "    conf_int_len.append(ci_len)\n",
    "    \n",
    "task3 = pd.DataFrame({'months': months, 'mean': mean, 'confidence interval': conf_int, 'conf_int_len': conf_int_len})\n",
    "t3 = task3.sort_values(by='months', ascending=True)\n",
    "t3    "
   ]
  },
  {
   "cell_type": "code",
   "execution_count": 19,
   "id": "1d824f9d",
   "metadata": {},
   "outputs": [
    {
     "data": {
      "text/plain": [
       "Text(0, 0.5, 'Задержка вылета, мин')"
      ]
     },
     "execution_count": 19,
     "metadata": {},
     "output_type": "execute_result"
    },
    {
     "data": {
      "image/png": "[encoded data removed]",
      "text/plain": [
       "<Figure size 432x288 with 1 Axes>"
      ]
     },
     "metadata": {
      "needs_background": "light"
     },
     "output_type": "display_data"
    }
   ],
   "source": [
    "plt.figure()\n",
    "plt.errorbar(t3['months'], t3['mean'], yerr=t3['conf_int_len'], fmt='o', ecolor='red', barsabove = True)\n",
    "plt.xlabel(\"Месяц\")\n",
    "plt.ylabel(\"Задержка вылета, мин\")"
   ]
  },
  {
   "cell_type": "markdown",
   "id": "552fa40d",
   "metadata": {},
   "source": [
    "Для проверки равенства средних используется т-тест Проверка равенства дисперсии. Если отношение большей выборочной дисперсии к меньшей меньше 4, можно предположить равенство дисперсий генеральной совокупности."
   ]
  },
  {
   "cell_type": "code",
   "execution_count": 20,
   "id": "a1cdb9fe",
   "metadata": {},
   "outputs": [
    {
     "name": "stdout",
     "output_type": "stream",
     "text": [
      "1318.297956026133 1308.0577574966912\n",
      "1.007828552272064\n"
     ]
    }
   ],
   "source": [
    "disp_1 = np.var(data2[data2['month'] == 1]['dep_delay'])\n",
    "disp_2 = np.var(data2[data2['month'] == 2]['dep_delay'])\n",
    "print(disp_1, disp_2)\n",
    "\n",
    "if disp_1 > disp_2:\n",
    "    print(disp_1/ disp_2)\n",
    "else:\n",
    "    print(disp_2/disp_1)\n",
    "          "
   ]
  },
  {
   "cell_type": "markdown",
   "id": "55a4d250",
   "metadata": {},
   "source": [
    "Отношение дисперсий близко к единице, можно применить двухвыборочный т-тест для выборок с одинаковой дисперсией.  \n",
    "H0: mean1 = mean2  \n",
    "H1: mean1 != mean2"
   ]
  },
  {
   "cell_type": "code",
   "execution_count": 21,
   "id": "8bf80dbd",
   "metadata": {},
   "outputs": [
    {
     "data": {
      "text/plain": [
       "Ttest_indResult(statistic=-2.386498623322741, pvalue=0.017013366495100535)"
      ]
     },
     "execution_count": 21,
     "metadata": {},
     "output_type": "execute_result"
    }
   ],
   "source": [
    "st.ttest_ind(a=data2[data2['month'] == 1]['dep_delay'], b=data2[data2['month'] == 2]['dep_delay'], equal_var=True)"
   ]
  },
  {
   "cell_type": "markdown",
   "id": "fd669134",
   "metadata": {},
   "source": [
    "Так как p-value = 0.017, что меньше уровня значимости 0.05.Принимаем альтернативную гипотезу H1, средние не равны.\n",
    "При уровне значимости 0.01 не можем отвергнуть нулевую гипотезу H0, средние равны."
   ]
  },
  {
   "cell_type": "markdown",
   "id": "abc8e962",
   "metadata": {},
   "source": [
    "# 4. Найдите коэффициент корреляции между расстоянием distance и временем полета air_time. Постройте точечную диаграмму в осях distance (х) и air_time (y). Найдите коэффициенты линейной регрессии и нанесите полученную прямую на график. Как можно интерпретировать смысл коэффициентов полученной линейной модели?\n"
   ]
  },
  {
   "cell_type": "code",
   "execution_count": 22,
   "id": "32787aa2",
   "metadata": {},
   "outputs": [
    {
     "name": "stdout",
     "output_type": "stream",
     "text": [
      "Коэффициент кореляции равен 0.9906496472248587\n"
     ]
    }
   ],
   "source": [
    "corr = data2['distance'].corr(data2['air_time'])\n",
    "print('Коэффициент кореляции равен', corr)"
   ]
  },
  {
   "cell_type": "code",
   "execution_count": 23,
   "id": "41ff2f5e",
   "metadata": {},
   "outputs": [
    {
     "data": {
      "text/plain": [
       "Text(0, 0.5, 'Время полета, мин')"
      ]
     },
     "execution_count": 23,
     "metadata": {},
     "output_type": "execute_result"
    },
    {
     "data": {
      "image/png": "[encoded data removed]",
      "text/plain": [
       "<Figure size 720x360 with 1 Axes>"
      ]
     },
     "metadata": {
      "needs_background": "light"
     },
     "output_type": "display_data"
    }
   ],
   "source": [
    "plt.figure(figsize=(10,5))\n",
    "plt.scatter(data2['distance'], data2['air_time'], s = 10, marker = \".\")\n",
    "plt.xlabel(\"Расстояние, км\")\n",
    "plt.ylabel(\"Время полета, мин\")"
   ]
  },
  {
   "cell_type": "markdown",
   "id": "e5ce8eb6",
   "metadata": {},
   "source": [
    "Нахождение линейной регрессии основано на минимизации суммы квадратов разности между экспериментальным и предсказанным значением (метод наименьших квадратов).  \n",
    "Уравнение: y = b0 + b1*x"
   ]
  },
  {
   "cell_type": "code",
   "execution_count": 24,
   "id": "94ec7656",
   "metadata": {},
   "outputs": [],
   "source": [
    "from sklearn.linear_model import LinearRegression"
   ]
  },
  {
   "cell_type": "code",
   "execution_count": 25,
   "id": "20910c02",
   "metadata": {},
   "outputs": [],
   "source": [
    "# Вход (регрессор) - dictance, выход (предиктор) - air_time\n",
    "x = np.array(data2['distance']).reshape((-1, 1))\n",
    "y = np.array(data2['air_time'])"
   ]
  },
  {
   "cell_type": "markdown",
   "id": "77fdc330",
   "metadata": {},
   "source": [
    "В первой модели зафиксировали  b0 = 0 (параметр fit_intercept LinearRegression равен False), так как при нулевой дистанции время в пути равно нулю.\n",
    "Во второй модели коэфициент b0 вычисляется.\n"
   ]
  },
  {
   "cell_type": "code",
   "execution_count": 26,
   "id": "aa7919cf",
   "metadata": {},
   "outputs": [
    {
     "name": "stdout",
     "output_type": "stream",
     "text": [
      "R^2: 0.9685623574820708\n",
      "b0: 0.0\n",
      "b1: [0.13791948]\n"
     ]
    }
   ],
   "source": [
    "# Первая модель\n",
    "model = LinearRegression(fit_intercept = False).fit(x, y) \n",
    "\n",
    "r_sq = model.score(x, y)\n",
    "b0 = model.intercept_\n",
    "b1 = model.coef_\n",
    "\n",
    "print('R^2:', r_sq)\n",
    "print('b0:', model.intercept_)\n",
    "print('b1:', model.coef_)"
   ]
  },
  {
   "cell_type": "code",
   "execution_count": 27,
   "id": "54d47b55",
   "metadata": {},
   "outputs": [
    {
     "name": "stdout",
     "output_type": "stream",
     "text": [
      "R^2: 0.9813867235467352\n",
      "b0: 18.46657812775848\n",
      "b1: [0.12611932]\n"
     ]
    }
   ],
   "source": [
    "# Вторая модель\n",
    "model2 = LinearRegression(fit_intercept = True).fit(x, y) \n",
    "\n",
    "r_sq_2 = model2.score(x, y)\n",
    "b0_2 = model2.intercept_\n",
    "b1_2 = model2.coef_\n",
    "\n",
    "print('R^2:', r_sq_2)\n",
    "print('b0:', model2.intercept_)\n",
    "print('b1:', model2.coef_)"
   ]
  },
  {
   "cell_type": "code",
   "execution_count": 28,
   "id": "0508aa5f",
   "metadata": {},
   "outputs": [],
   "source": [
    "lin_reg = b0 + b1*data2['distance']\n",
    "lin_reg_2 = b0_2 + b1_2*data2['distance']"
   ]
  },
  {
   "cell_type": "code",
   "execution_count": 29,
   "id": "efc1bb40",
   "metadata": {
    "scrolled": false
   },
   "outputs": [
    {
     "data": {
      "text/plain": [
       "<matplotlib.legend.Legend at 0x21e253c05b0>"
      ]
     },
     "execution_count": 29,
     "metadata": {},
     "output_type": "execute_result"
    },
    {
     "data": {
      "image/png": "[encoded data removed]",
      "text/plain": [
       "<Figure size 720x360 with 1 Axes>"
      ]
     },
     "metadata": {
      "needs_background": "light"
     },
     "output_type": "display_data"
    }
   ],
   "source": [
    "f = plt.figure(figsize=(10, 5))\n",
    "plt.scatter(data2['distance'], data2['air_time'], s = 10, marker = \".\", label = 'Наблюдаемые значения', color='grey')\n",
    "plt.plot(data2['distance'], lin_reg, ':', label = 'Первая модель', color='red')\n",
    "plt.plot(data2['distance'], lin_reg_2, ':', label = 'Вторая модель', color='green')\n",
    "plt.xlabel(\"Расстояние, км\")\n",
    "plt.ylabel(\"Время полета, мин\")\n",
    "f.legend(loc = (0.15, 0.7))"
   ]
  },
  {
   "cell_type": "code",
   "execution_count": 30,
   "id": "016b1187",
   "metadata": {},
   "outputs": [
    {
     "data": {
      "text/plain": [
       "array([435.03644488])"
      ]
     },
     "execution_count": 30,
     "metadata": {},
     "output_type": "execute_result"
    }
   ],
   "source": [
    "# Вычисление приблизительной скорости самолета по второй модели\n",
    "v = 1/(b1/60)\n",
    "v"
   ]
  },
  {
   "cell_type": "markdown",
   "id": "10b6e829",
   "metadata": {},
   "source": [
    "1. R-квадрат обозначает какой процент вариации зависимой переменной можно объяснить значением независимой переменной. Чем больше значение R-квадрата, тем лучше независимые переменные способны предсказать значение зависимой переменной. \n",
    "\n",
    "    R-квадрат второй модели равен 0.98 (98% вариации времени полета объясняется изменением расстояния), первой модели - 0.97. Визуально, прямая второй модели точнее проходит через экспериментальные точки.\n",
    "    \n",
    "\n",
    "2. Коэффициент b0 - точка пересечения графика с осью OY (x=0). Во второй модели b0 = 18.5 минут. Можно предположить, что это минимальное время, затраченное на полет при приближении расстояния к нулю. Возможно это время взлета/посадки.\n",
    "\n",
    "\n",
    "3. b1 = 0.13 (вторая модель), каждый километр самолет пролетает за 0.13 минут.   \n",
    "    Ожидаемая скорость полета = 435 км/ч"
   ]
  },
  {
   "cell_type": "markdown",
   "id": "7cb01bce",
   "metadata": {},
   "source": [
    "# 5. Постройте нормированную гистограмму распределения задержки прилета по тем рейсам, которые вылетели в пределах +/-15 минут от времени в расписании. Сделайте предположение о том, каким распределением может описываться полученная гистограмма, оцените параметры этого распределения и нанесите график плотности на график с гистограммой. Вопрос со звездочкой (необязательный): с помощью подходящего статистического теста проверьте, можно ли принять гипотезу о выбранном распределении?\n"
   ]
  },
  {
   "cell_type": "code",
   "execution_count": 32,
   "id": "b5a7cbd0",
   "metadata": {},
   "outputs": [
    {
     "data": {
      "text/html": [
       "<div>\n",
       "<style scoped>\n",
       "    .dataframe tbody tr th:only-of-type {\n",
       "        vertical-align: middle;\n",
       "    }\n",
       "\n",
       "    .dataframe tbody tr th {\n",
       "        vertical-align: top;\n",
       "    }\n",
       "\n",
       "    .dataframe thead th {\n",
       "        text-align: right;\n",
       "    }\n",
       "</style>\n",
       "<table border=\"1\" class=\"dataframe\">\n",
       "  <thead>\n",
       "    <tr style=\"text-align: right;\">\n",
       "      <th></th>\n",
       "      <th>month</th>\n",
       "      <th>day</th>\n",
       "      <th>dep_time</th>\n",
       "      <th>dep_delay</th>\n",
       "      <th>arr_time</th>\n",
       "      <th>arr_delay</th>\n",
       "      <th>carrier</th>\n",
       "      <th>tailnum</th>\n",
       "      <th>flight</th>\n",
       "      <th>origin</th>\n",
       "      <th>dest</th>\n",
       "      <th>air_time</th>\n",
       "      <th>distance</th>\n",
       "    </tr>\n",
       "    <tr>\n",
       "      <th>year</th>\n",
       "      <th></th>\n",
       "      <th></th>\n",
       "      <th></th>\n",
       "      <th></th>\n",
       "      <th></th>\n",
       "      <th></th>\n",
       "      <th></th>\n",
       "      <th></th>\n",
       "      <th></th>\n",
       "      <th></th>\n",
       "      <th></th>\n",
       "      <th></th>\n",
       "      <th></th>\n",
       "    </tr>\n",
       "  </thead>\n",
       "  <tbody>\n",
       "    <tr>\n",
       "      <th>2013</th>\n",
       "      <td>1</td>\n",
       "      <td>1</td>\n",
       "      <td>517.0</td>\n",
       "      <td>2.0</td>\n",
       "      <td>830.0</td>\n",
       "      <td>11.0</td>\n",
       "      <td>UA</td>\n",
       "      <td>N14228</td>\n",
       "      <td>1545</td>\n",
       "      <td>EWR</td>\n",
       "      <td>IAH</td>\n",
       "      <td>227.0</td>\n",
       "      <td>1400</td>\n",
       "    </tr>\n",
       "    <tr>\n",
       "      <th>2013</th>\n",
       "      <td>1</td>\n",
       "      <td>1</td>\n",
       "      <td>533.0</td>\n",
       "      <td>4.0</td>\n",
       "      <td>850.0</td>\n",
       "      <td>20.0</td>\n",
       "      <td>UA</td>\n",
       "      <td>N24211</td>\n",
       "      <td>1714</td>\n",
       "      <td>LGA</td>\n",
       "      <td>IAH</td>\n",
       "      <td>227.0</td>\n",
       "      <td>1416</td>\n",
       "    </tr>\n",
       "    <tr>\n",
       "      <th>2013</th>\n",
       "      <td>1</td>\n",
       "      <td>1</td>\n",
       "      <td>542.0</td>\n",
       "      <td>2.0</td>\n",
       "      <td>923.0</td>\n",
       "      <td>33.0</td>\n",
       "      <td>AA</td>\n",
       "      <td>N619AA</td>\n",
       "      <td>1141</td>\n",
       "      <td>JFK</td>\n",
       "      <td>MIA</td>\n",
       "      <td>160.0</td>\n",
       "      <td>1089</td>\n",
       "    </tr>\n",
       "    <tr>\n",
       "      <th>2013</th>\n",
       "      <td>1</td>\n",
       "      <td>1</td>\n",
       "      <td>544.0</td>\n",
       "      <td>-1.0</td>\n",
       "      <td>1004.0</td>\n",
       "      <td>-18.0</td>\n",
       "      <td>B6</td>\n",
       "      <td>N804JB</td>\n",
       "      <td>725</td>\n",
       "      <td>JFK</td>\n",
       "      <td>BQN</td>\n",
       "      <td>183.0</td>\n",
       "      <td>1576</td>\n",
       "    </tr>\n",
       "    <tr>\n",
       "      <th>2013</th>\n",
       "      <td>1</td>\n",
       "      <td>1</td>\n",
       "      <td>554.0</td>\n",
       "      <td>-6.0</td>\n",
       "      <td>812.0</td>\n",
       "      <td>-25.0</td>\n",
       "      <td>DL</td>\n",
       "      <td>N668DN</td>\n",
       "      <td>461</td>\n",
       "      <td>LGA</td>\n",
       "      <td>ATL</td>\n",
       "      <td>116.0</td>\n",
       "      <td>762</td>\n",
       "    </tr>\n",
       "    <tr>\n",
       "      <th>...</th>\n",
       "      <td>...</td>\n",
       "      <td>...</td>\n",
       "      <td>...</td>\n",
       "      <td>...</td>\n",
       "      <td>...</td>\n",
       "      <td>...</td>\n",
       "      <td>...</td>\n",
       "      <td>...</td>\n",
       "      <td>...</td>\n",
       "      <td>...</td>\n",
       "      <td>...</td>\n",
       "      <td>...</td>\n",
       "      <td>...</td>\n",
       "    </tr>\n",
       "    <tr>\n",
       "      <th>2013</th>\n",
       "      <td>9</td>\n",
       "      <td>30</td>\n",
       "      <td>2240.0</td>\n",
       "      <td>-5.0</td>\n",
       "      <td>2334.0</td>\n",
       "      <td>-17.0</td>\n",
       "      <td>B6</td>\n",
       "      <td>N354JB</td>\n",
       "      <td>1816</td>\n",
       "      <td>JFK</td>\n",
       "      <td>SYR</td>\n",
       "      <td>41.0</td>\n",
       "      <td>209</td>\n",
       "    </tr>\n",
       "    <tr>\n",
       "      <th>2013</th>\n",
       "      <td>9</td>\n",
       "      <td>30</td>\n",
       "      <td>2240.0</td>\n",
       "      <td>-10.0</td>\n",
       "      <td>2347.0</td>\n",
       "      <td>-20.0</td>\n",
       "      <td>B6</td>\n",
       "      <td>N281JB</td>\n",
       "      <td>2002</td>\n",
       "      <td>JFK</td>\n",
       "      <td>BUF</td>\n",
       "      <td>52.0</td>\n",
       "      <td>301</td>\n",
       "    </tr>\n",
       "    <tr>\n",
       "      <th>2013</th>\n",
       "      <td>9</td>\n",
       "      <td>30</td>\n",
       "      <td>2241.0</td>\n",
       "      <td>-5.0</td>\n",
       "      <td>2345.0</td>\n",
       "      <td>-16.0</td>\n",
       "      <td>B6</td>\n",
       "      <td>N346JB</td>\n",
       "      <td>486</td>\n",
       "      <td>JFK</td>\n",
       "      <td>ROC</td>\n",
       "      <td>47.0</td>\n",
       "      <td>264</td>\n",
       "    </tr>\n",
       "    <tr>\n",
       "      <th>2013</th>\n",
       "      <td>9</td>\n",
       "      <td>30</td>\n",
       "      <td>2307.0</td>\n",
       "      <td>12.0</td>\n",
       "      <td>2359.0</td>\n",
       "      <td>1.0</td>\n",
       "      <td>B6</td>\n",
       "      <td>N565JB</td>\n",
       "      <td>718</td>\n",
       "      <td>JFK</td>\n",
       "      <td>BOS</td>\n",
       "      <td>33.0</td>\n",
       "      <td>187</td>\n",
       "    </tr>\n",
       "    <tr>\n",
       "      <th>2013</th>\n",
       "      <td>9</td>\n",
       "      <td>30</td>\n",
       "      <td>2349.0</td>\n",
       "      <td>-10.0</td>\n",
       "      <td>325.0</td>\n",
       "      <td>-25.0</td>\n",
       "      <td>B6</td>\n",
       "      <td>N516JB</td>\n",
       "      <td>745</td>\n",
       "      <td>JFK</td>\n",
       "      <td>PSE</td>\n",
       "      <td>196.0</td>\n",
       "      <td>1617</td>\n",
       "    </tr>\n",
       "  </tbody>\n",
       "</table>\n",
       "<p>256608 rows × 13 columns</p>\n",
       "</div>"
      ],
      "text/plain": [
       "      month  day  dep_time  dep_delay  arr_time  arr_delay carrier tailnum  \\\n",
       "year                                                                         \n",
       "2013      1    1     517.0        2.0     830.0       11.0      UA  N14228   \n",
       "2013      1    1     533.0        4.0     850.0       20.0      UA  N24211   \n",
       "2013      1    1     542.0        2.0     923.0       33.0      AA  N619AA   \n",
       "2013      1    1     544.0       -1.0    1004.0      -18.0      B6  N804JB   \n",
       "2013      1    1     554.0       -6.0     812.0      -25.0      DL  N668DN   \n",
       "...     ...  ...       ...        ...       ...        ...     ...     ...   \n",
       "2013      9   30    2240.0       -5.0    2334.0      -17.0      B6  N354JB   \n",
       "2013      9   30    2240.0      -10.0    2347.0      -20.0      B6  N281JB   \n",
       "2013      9   30    2241.0       -5.0    2345.0      -16.0      B6  N346JB   \n",
       "2013      9   30    2307.0       12.0    2359.0        1.0      B6  N565JB   \n",
       "2013      9   30    2349.0      -10.0     325.0      -25.0      B6  N516JB   \n",
       "\n",
       "      flight origin dest  air_time  distance  \n",
       "year                                          \n",
       "2013    1545    EWR  IAH     227.0      1400  \n",
       "2013    1714    LGA  IAH     227.0      1416  \n",
       "2013    1141    JFK  MIA     160.0      1089  \n",
       "2013     725    JFK  BQN     183.0      1576  \n",
       "2013     461    LGA  ATL     116.0       762  \n",
       "...      ...    ...  ...       ...       ...  \n",
       "2013    1816    JFK  SYR      41.0       209  \n",
       "2013    2002    JFK  BUF      52.0       301  \n",
       "2013     486    JFK  ROC      47.0       264  \n",
       "2013     718    JFK  BOS      33.0       187  \n",
       "2013     745    JFK  PSE     196.0      1617  \n",
       "\n",
       "[256608 rows x 13 columns]"
      ]
     },
     "execution_count": 32,
     "metadata": {},
     "output_type": "execute_result"
    }
   ],
   "source": [
    "# Фильтрация по времени задержки вылета\n",
    "df1 = data2[-15 <= data2['dep_delay']]\n",
    "df2 = df1[df1['dep_delay'] <= 15]\n",
    "df2"
   ]
  },
  {
   "cell_type": "code",
   "execution_count": 42,
   "id": "faf96d88",
   "metadata": {},
   "outputs": [
    {
     "data": {
      "text/plain": [
       "Text(0, 0.5, 'Плотность распределения')"
      ]
     },
     "execution_count": 42,
     "metadata": {},
     "output_type": "execute_result"
    },
    {
     "data": {
      "image/png": "[encoded data removed]",
      "text/plain": [
       "<Figure size 432x288 with 1 Axes>"
      ]
     },
     "metadata": {
      "needs_background": "light"
     },
     "output_type": "display_data"
    }
   ],
   "source": [
    "plt.hist(df2['arr_delay'], density=True, color = 'blue', edgecolor = 'black', bins = 70)\n",
    "plt.xlabel(\"Задержка прибытия, мин\")\n",
    "plt.ylabel(\"Плотность распределения\")"
   ]
  },
  {
   "cell_type": "code",
   "execution_count": 41,
   "id": "50c86e7a",
   "metadata": {},
   "outputs": [
    {
     "name": "stderr",
     "output_type": "stream",
     "text": [
      "C:\\Users\\Dasha\\anaconda3\\lib\\site-packages\\seaborn\\distributions.py:2557: FutureWarning: `distplot` is a deprecated function and will be removed in a future version. Please adapt your code to use either `displot` (a figure-level function with similar flexibility) or `histplot` (an axes-level function for histograms).\n",
      "  warnings.warn(msg, FutureWarning)\n"
     ]
    },
    {
     "data": {
      "text/plain": [
       "<AxesSubplot:xlabel='arr_delay', ylabel='Density'>"
      ]
     },
     "execution_count": 41,
     "metadata": {},
     "output_type": "execute_result"
    },
    {
     "data": {
      "image/png": "[encoded data removed]",
      "text/plain": [
       "<Figure size 432x288 with 1 Axes>"
      ]
     },
     "metadata": {
      "needs_background": "light"
     },
     "output_type": "display_data"
    }
   ],
   "source": [
    "sns.distplot(df2['arr_delay'], hist=True, kde=True, \n",
    "             bins=70, color = 'darkblue', \n",
    "             hist_kws={'edgecolor':'black'},\n",
    "             kde_kws={'linewidth': 1})"
   ]
  },
  {
   "cell_type": "markdown",
   "id": "37c014e5",
   "metadata": {},
   "source": [
    "Предположительно данные распределены по нормальному закону"
   ]
  },
  {
   "cell_type": "markdown",
   "id": "31c82016",
   "metadata": {},
   "source": [
    "Оценка параметров нормального распределения:  \n",
    "Оценка максимального правдоподобия мат.ожидания = среднее выборки  \n",
    "Оценка максимального правдоподобия дисперсии = сумма квадратов разности значения и xi и среднего, деленная на n - число элементов выборки "
   ]
  },
  {
   "cell_type": "code",
   "execution_count": 60,
   "id": "e34dc264",
   "metadata": {},
   "outputs": [
    {
     "name": "stdout",
     "output_type": "stream",
     "text": [
      "a_mle: -8.251114540466393\n",
      "d2_mle: 2.6971733058572895e-18\n"
     ]
    }
   ],
   "source": [
    "# Оценка параметров нормального распределения\n",
    "a_mle = df2['arr_delay'].mean()\n",
    "d2_mle = (1/len(df2['arr_delay']))*sum(df2['arr_delay'] - df2['arr_delay'].mean())**2\n",
    "print('a_mle:', a_mle)\n",
    "print('d2_mle:', d2_mle)"
   ]
  },
  {
   "cell_type": "code",
   "execution_count": null,
   "id": "ef890352",
   "metadata": {},
   "outputs": [],
   "source": []
  }
 ],
 "metadata": {
  "kernelspec": {
   "display_name": "Python 3",
   "language": "python",
   "name": "python3"
  },
  "language_info": {
   "codemirror_mode": {
    "name": "ipython",
    "version": 3
   },
   "file_extension": ".py",
   "mimetype": "text/x-python",
   "name": "python",
   "nbconvert_exporter": "python",
   "pygments_lexer": "ipython3",
   "version": "3.8.8"
  }
 },
 "nbformat": 4,
 "nbformat_minor": 5
}
